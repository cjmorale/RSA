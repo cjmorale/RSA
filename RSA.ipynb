{
 "cells": [
  {
   "cell_type": "code",
   "execution_count": 319,
   "metadata": {},
   "outputs": [],
   "source": [
    "'''RSA crypto system.'''\n",
    "\n",
    "import random\n",
    "import numpy as np\n",
    "import math\n",
    "\n",
    "def egcd(a, b):\n",
    "    \"\"\"Extended Euclidean Algorithm used to find the gcd of (a, b)\n",
    "    \n",
    "        Args:\n",
    "            a: integer  \n",
    "            b: integer\n",
    "\n",
    "        Returns:\n",
    "            the greatest common denominator of intergers a and b\n",
    "    \"\"\"\n",
    "    if a == 0:\n",
    "        return (b, 0, 1)\n",
    "    else:\n",
    "        g, y, x = egcd(b % a, a)\n",
    "        return (g, x - (b // a) * y, y)\n",
    "\n",
    "\n",
    "def modinv(a, m):\n",
    "    \"\"\"A modular inverse of an integer a (modulo m) is the integer  a^(-1) such that\n",
    "       aa^(-1) = 1 (mod m). \n",
    "    \n",
    "        Args:\n",
    "            a: integer which we wish to find modular inverse of  \n",
    "            m: integer modulo\n",
    "\n",
    "        Returns:\n",
    "            modular inverse of an integer a (modulo m)\n",
    "    \"\"\"\n",
    "    \n",
    "    g, x, y = egcd(a, m)\n",
    "    if g != 1:\n",
    "        raise Exception(str(a) + ' and ' + str(m) + ' are not coprime')\n",
    "    else:\n",
    "        return x % m\n",
    "\n",
    "mapping = {'a': '99', 'b': '01', 'c': '02', 'd': '03', 'e': '04', 'f': '05',\n",
    "           'g': '06', 'h': '07', 'i': '08', 'j': '09', 'k': '10', 'l': '11',\n",
    "           'm': '12', 'n': '13', 'o': '14', 'p': '15', 'q': '16', 'r': '17',\n",
    "           's': '18', 't': '19', 'u': '20', 'v': '21', 'w': '22', 'x': '23',\n",
    "           'y': '24', 'z': '25', ' ': '26', '.': '27', ',': '28', 'A': '29',\n",
    "           'B': '30', 'C': '31', 'D': '32', 'E': '33', 'F': '34', 'G': '35',\n",
    "           'H': '36', 'I': '37', 'J': '38', 'K': '39', 'L': '40', 'M': '41',\n",
    "           'N': '42', 'O': '43', 'P': '44', 'Q': '45', 'R': '46', 'S': '47',\n",
    "           'T': '48', 'U': '49', 'V': '50', 'W': '51', 'X': '52', 'Y': '53',\n",
    "           'Z': '54', ',': '55', '!': '56', '@': '57', '#': '58', '$': '59',\n",
    "           '%': '60', '^': '61', '&': '62', '*': '63', '(': '64', ')': '65',\n",
    "           '-': '66', ':': '98'}\n",
    "\n",
    "\n",
    "def factor_brute_force(N):\n",
    "    '''\n",
    "    This function checks if any number fom numbers from 2 to sqrt(N) is\n",
    "    a factor of N.We can restrict this to odd numbers to speed up the process.\n",
    "    '''\n",
    "    for i in range(2, int(round(N**.5)+1)):\n",
    "        div = N / float(i)\n",
    "        if round(div) * i == N:\n",
    "            print(str(i) + \" is a factor of \" + str(N))\n",
    "            return(str(N) + \" is not a prime number.\")\n",
    "            break\n",
    "        else:\n",
    "            if i == round(N**.5):\n",
    "                return(str(N)+\" is a prime number\")\n",
    "\n",
    "\n",
    "def exp_mod_n(a, exp, N):\n",
    "    '''\n",
    "    function to find a^exp mod (N)\n",
    "    '''\n",
    "    e = bin(exp)[2:]\n",
    "    x_1 = 1\n",
    "    x_2 = a\n",
    "\n",
    "    for i in list((range(len(e)))):\n",
    "        if e[i] == '0':\n",
    "            x_2 = x_1 * x_2 % N\n",
    "            x_1 = x_1 ** 2 % N\n",
    "        #else:\n",
    "        elif e[i] == '1':\n",
    "            x_1 = x_1 * x_2 % N\n",
    "            x_2 = x_2 ** 2 % N\n",
    "    return(x_1)\n",
    "\n",
    "\n",
    "def primality_test(p):\n",
    "    '''\n",
    "    If a is not divisible by p, Fermat's little theorem is equivalent to the\n",
    "    statement that a^p-1-1 is an integer multiple of p, or in symbols a^(p-1)\n",
    "    equiv 1 mod p\n",
    "    '''\n",
    "    mod = exp_mod_n(2, p-1, p) == 1\n",
    "    if mod is True:\n",
    "        print(str(p) + \" is probably prime \")\n",
    "    if mod is False:\n",
    "        print(str(p) + \" is not prime! \")\n",
    "\n",
    "\n",
    "def produce_prime(length=500):\n",
    "        '''\n",
    "        length - prime number will have at least 'length' digits.\n",
    "\n",
    "        If a is not divisible by p, Fermat's little theorem is equivalent to\n",
    "        the statement that a^p-1-1 is an integer multiple of p, or in symbols\n",
    "        a^(p-1) equiv 1 mod p\n",
    "        '''\n",
    "        a = 1**length\n",
    "        b = 9**length\n",
    "        p = random.randint(a, b)\n",
    "        finish = 0\n",
    "        while finish == 0:\n",
    "            p += 1\n",
    "            mod = exp_mod_n(2, p-1, p)\n",
    "            if mod == 1:\n",
    "                finish = 1\n",
    "                return(p)\n",
    "\n",
    "\n",
    "def replace_all(text):\n",
    "    for i, j in mapping.items():\n",
    "        text = text.replace(i, j)\n",
    "    return text\n",
    "\n",
    "\n",
    "# convert string to numeric\n",
    "def add_padding(string, pad_int=311):\n",
    "    L = len(string)\n",
    "    blocks = math.floor(L/3) + 1\n",
    "    start = 0\n",
    "    end = 3\n",
    "    block = list()\n",
    "    for i in range(blocks):\n",
    "        temp = string[start:end]\n",
    "        start = end\n",
    "        end = end + 3\n",
    "        out = 0\n",
    "\n",
    "        #print(temp)\n",
    "        for j in range(len(temp)):\n",
    "            out = int(replace_all(temp[j]))*(pad_int**(3-j))\n",
    "            # print(out)\n",
    "            # print(len(str(out)))\n",
    "            if len(str(out)) != 0:\n",
    "                block.append(out)\n",
    "    return(block)\n",
    "\n",
    "\n",
    "def replace_all_2(text):\n",
    "    if len(text) == 1:\n",
    "        text = '0' + text\n",
    "    for i, j in mapping.items():\n",
    "        text = text.replace(j, i)\n",
    "    return text\n",
    "\n",
    "\n",
    "def remove_padding(block, pad_int=311):\n",
    "    strings = []\n",
    "    for k in range(len(block)):\n",
    "\n",
    "        code = block[k]\n",
    "\n",
    "        if k % 3 == 0:\n",
    "            unpadded = code / pad_int**3\n",
    "\n",
    "        elif k % 3 == 1:\n",
    "            unpadded = code / pad_int**2\n",
    "\n",
    "        else:\n",
    "            unpadded = code / pad_int\n",
    "\n",
    "        out = replace_all_2(str(int(unpadded)))\n",
    "        strings.append(out)\n",
    "\n",
    "    return(''.join(strings))\n",
    "\n",
    "\n",
    "class RSA():\n",
    "    \n",
    "    def __init__(self, len_p=None, len_q=None, len_e=None):\n",
    "        self.p = None\n",
    "        self.q = None\n",
    "        self.e = None\n",
    "        self.N = None\n",
    "        self.d = None\n",
    "        self.len_p = len_p\n",
    "        self.len_e = len_e\n",
    "        self.len_q = len_q\n",
    "\n",
    "    def generate_key(self):\n",
    "        self.p = produce_prime(int(self.len_p))\n",
    "        self.q = produce_prime(int(self.len_q))\n",
    "        self.e = produce_prime(int(self.len_e))\n",
    "\n",
    "        self.N = self.p * self.q\n",
    "        self.d = modinv(self.e, (self.p-1) * (self.q-1))\n",
    "        return({'p': self.p, 'q': self.q, 'e': self.e,'N': self.N, 'd': self.d})\n",
    "\n",
    "    def encrypt(self, message):\n",
    "        padding = add_padding(message, 311)\n",
    "        secret = []\n",
    "        for block in padding:\n",
    "            secret.append(exp_mod_n(block, self.e, self.N))\n",
    "        return(secret)\n",
    "\n",
    "    def decrypt(self, message):\n",
    "        secret = []\n",
    "        for block in message:\n",
    "            secret.append(exp_mod_n(block, self.d, self.N))\n",
    "        padding = remove_padding(secret, 311)\n",
    "        return(padding)\n"
   ]
  },
  {
   "cell_type": "markdown",
   "metadata": {},
   "source": [
    "### Instantiate RSA class with primes p and q.  p has length 100 and q length 150. The exponent e used in encryption can have smaller length therefore we chose 10. "
   ]
  },
  {
   "cell_type": "code",
   "execution_count": 320,
   "metadata": {},
   "outputs": [],
   "source": [
    "rsa = RSA(100, 150, 10)"
   ]
  },
  {
   "cell_type": "markdown",
   "metadata": {},
   "source": [
    "### Next we generate the encryption key and the decyption key. The public key N is shared with everyone and d is the private key we keep secret!"
   ]
  },
  {
   "cell_type": "code",
   "execution_count": 321,
   "metadata": {},
   "outputs": [
    {
     "data": {
      "text/plain": [
       "{'p': 240315033607927023897048961432824578549957023432408230059367526078206038794498133026587209663371,\n",
       " 'q': 60209548260018071705245737667081214933502544667658243109349222743884843334132686767913242047684779822068022373294365921843529169973758660580653,\n",
       " 'e': 3366026647,\n",
       " 'N': 14469259613624346966341024713533281378552212246559577056054519768786396469300531271295977195392713023770385462506739235243962712961822509307483676776962055582244296961360382209703028792253727619060559643056956685676139459929139095525361263,\n",
       " 'd': 3409404887517052902113553101895661843994908489535652850898080975929973488554273829099551711004353474897778407774938863202345868709336347095923421121843390624111276446851956419537377635377620362104460219611407929087991555446236409528083783}"
      ]
     },
     "execution_count": 321,
     "metadata": {},
     "output_type": "execute_result"
    }
   ],
   "source": [
    "rsa.generate_key()"
   ]
  },
  {
   "cell_type": "code",
   "execution_count": 327,
   "metadata": {},
   "outputs": [],
   "source": [
    "messege = rsa.encrypt('This is a secret messege.')"
   ]
  },
  {
   "cell_type": "markdown",
   "metadata": {},
   "source": [
    "### Below we look for duplicates. Since there are duplicates we should explore a more robust padding function. The goal with the padding is to avoid duplicate encoded numbers. There are 10 "
   ]
  },
  {
   "cell_type": "code",
   "execution_count": 328,
   "metadata": {},
   "outputs": [
    {
     "name": "stdout",
     "output_type": "stream",
     "text": [
      "6\n",
      "25\n"
     ]
    }
   ],
   "source": [
    "dups = [item for item, count in collections.Counter(messege).items() if count > 1]\n",
    "print(len(dups))\n",
    "print(len(messege))"
   ]
  },
  {
   "cell_type": "code",
   "execution_count": 329,
   "metadata": {},
   "outputs": [
    {
     "data": {
      "text/plain": [
       "'This is a secret messege.'"
      ]
     },
     "execution_count": 329,
     "metadata": {},
     "output_type": "execute_result"
    }
   ],
   "source": [
    "rsa.decrypt(messege)"
   ]
  }
 ],
 "metadata": {
  "kernelspec": {
   "display_name": "Python 3",
   "language": "python",
   "name": "python3"
  },
  "language_info": {
   "codemirror_mode": {
    "name": "ipython",
    "version": 3
   },
   "file_extension": ".py",
   "mimetype": "text/x-python",
   "name": "python",
   "nbconvert_exporter": "python",
   "pygments_lexer": "ipython3",
   "version": "3.7.2"
  }
 },
 "nbformat": 4,
 "nbformat_minor": 2
}
